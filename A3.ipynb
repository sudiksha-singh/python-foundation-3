{
 "cells": [
  {
   "cell_type": "code",
   "execution_count": 1,
   "id": "4b942961-090d-4004-bbb2-42a026088c66",
   "metadata": {},
   "outputs": [
    {
     "name": "stdout",
     "output_type": "stream",
     "text": [
      "[]\n"
     ]
    }
   ],
   "source": [
    "#1\n",
    "\n",
    "l=[]\n",
    "print(l)"
   ]
  },
  {
   "cell_type": "code",
   "execution_count": 2,
   "id": "a9c4ec55-2dc2-4652-b476-9e472018fc10",
   "metadata": {},
   "outputs": [
    {
     "name": "stdout",
     "output_type": "stream",
     "text": [
      "[1, 2, 3, 4, 5, 6]\n"
     ]
    }
   ],
   "source": [
    "#2\n",
    "\n",
    "l=[1,2,3,4,5]\n",
    "\n",
    "l.append(6)\n",
    "\n",
    "print(l)"
   ]
  },
  {
   "cell_type": "code",
   "execution_count": 5,
   "id": "44334956-4709-4a88-baf6-07c8aaab787c",
   "metadata": {},
   "outputs": [
    {
     "name": "stdout",
     "output_type": "stream",
     "text": [
      "6\n"
     ]
    }
   ],
   "source": [
    "#3\n",
    "\n",
    "print(l[-1])"
   ]
  },
  {
   "cell_type": "code",
   "execution_count": 6,
   "id": "0a48da2b-6dce-4275-ad1e-873e9e2c59c4",
   "metadata": {},
   "outputs": [
    {
     "name": "stdout",
     "output_type": "stream",
     "text": [
      "Reversed list: [6, 5, 4, 3, 2, 1]\n"
     ]
    }
   ],
   "source": [
    "#4\n",
    "\n",
    "l.reverse()\n",
    "print(\"Reversed list:\", l)"
   ]
  },
  {
   "cell_type": "code",
   "execution_count": 7,
   "id": "70ff0861-be38-473f-bbb3-c634afdaf5fc",
   "metadata": {},
   "outputs": [
    {
     "name": "stdout",
     "output_type": "stream",
     "text": [
      "[1, 2, 3, 4, 5, 6]\n"
     ]
    }
   ],
   "source": [
    "#5\n",
    "l.sort()\n",
    "print(l)"
   ]
  },
  {
   "cell_type": "code",
   "execution_count": 8,
   "id": "38641422-3ca1-4c21-944f-9a291db90d65",
   "metadata": {},
   "outputs": [
    {
     "name": "stdout",
     "output_type": "stream",
     "text": [
      "Title of the second movie: The Shawshank Redemption\n"
     ]
    }
   ],
   "source": [
    "#6\n",
    "favorite_movies = [\"Inception\", \"The Shawshank Redemption\", \"The Dark Knight\"]\n",
    "print(\"Title of the second movie:\", favorite_movies[1])"
   ]
  },
  {
   "cell_type": "code",
   "execution_count": 9,
   "id": "b083715c-b428-454d-a41a-e519bfe1e803",
   "metadata": {},
   "outputs": [
    {
     "name": "stdout",
     "output_type": "stream",
     "text": [
      "Updated list of favorite animals: ['Dog', 'Cat', 'Elephant', 'Lion']\n"
     ]
    }
   ],
   "source": [
    "#7\n",
    "favorite_animals = [\"Dog\", \"Cat\", \"Elephant\"]\n",
    "\n",
    "favorite_animals.append(\"Lion\")\n",
    "\n",
    "print(\"Updated list of favorite animals:\", favorite_animals)"
   ]
  },
  {
   "cell_type": "code",
   "execution_count": 10,
   "id": "84b2233d-b908-42a6-b709-9eb2e9a73fcd",
   "metadata": {},
   "outputs": [
    {
     "name": "stdout",
     "output_type": "stream",
     "text": [
      "The position of 'Paris' in the list is: 2\n"
     ]
    }
   ],
   "source": [
    "#8\n",
    "favorite_cities = [\"New York\", \"Tokyo\", \"Paris\", \"London\", \"Sydney\"]\n",
    "\n",
    "city = \"Paris\"\n",
    "position = favorite_cities.index(city)\n",
    "\n",
    "print(f\"The position of '{city}' in the list is:\", position)"
   ]
  },
  {
   "cell_type": "code",
   "execution_count": null,
   "id": "431e38a9-947e-4c17-b087-cf148b6e969a",
   "metadata": {},
   "outputs": [],
   "source": []
  }
 ],
 "metadata": {
  "kernelspec": {
   "display_name": "Python 3 (ipykernel)",
   "language": "python",
   "name": "python3"
  },
  "language_info": {
   "codemirror_mode": {
    "name": "ipython",
    "version": 3
   },
   "file_extension": ".py",
   "mimetype": "text/x-python",
   "name": "python",
   "nbconvert_exporter": "python",
   "pygments_lexer": "ipython3",
   "version": "3.10.8"
  }
 },
 "nbformat": 4,
 "nbformat_minor": 5
}
